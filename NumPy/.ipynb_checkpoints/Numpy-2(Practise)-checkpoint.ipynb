{
 "cells": [
  {
   "cell_type": "code",
   "execution_count": null,
   "id": "f5568206-53ba-4602-8a2b-31c92479d151",
   "metadata": {},
   "outputs": [],
   "source": [
    "# Import NumPy as its abbreviation 'np'\n",
    "# Create a 1-dimensional NumPy array using np.array()\n",
    "\n",
    "\n",
    "# Create a 2-dimensional NumPy array using np.array()\n",
    "\n",
    "\n",
    "# Create a 3-dimensional Numpy array using np.array()\n",
    "\n",
    "# Attributes of 1-dimensional array (shape, \n",
    "# number of dimensions, data type, size and type)\n",
    "# Attributes of 2-dimensional array\n",
    "# Attributes of 3-dimensional array\n"
   ]
  },
  {
   "cell_type": "code",
   "execution_count": 5,
   "id": "0d2d8d3e-ec71-4440-855d-0c6a717e7885",
   "metadata": {},
   "outputs": [
    {
     "name": "stdout",
     "output_type": "stream",
     "text": [
      "1\n",
      "(3,)\n",
      "int64\n"
     ]
    },
    {
     "data": {
      "text/plain": [
       "array([1, 2, 3])"
      ]
     },
     "execution_count": 5,
     "metadata": {},
     "output_type": "execute_result"
    }
   ],
   "source": [
    "import numpy as np\n",
    "arr1 = np.array([1,2,3])\n",
    "print(arr1.ndim)\n",
    "print(arr1.shape)\n",
    "print(arr1.dtype)\n",
    "arr1"
   ]
  },
  {
   "cell_type": "code",
   "execution_count": 7,
   "id": "7af0569b-2134-45ee-ba06-23a761af6658",
   "metadata": {},
   "outputs": [
    {
     "name": "stdout",
     "output_type": "stream",
     "text": [
      "2\n",
      "(2, 3)\n",
      "int64\n"
     ]
    },
    {
     "data": {
      "text/plain": [
       "array([[1, 2, 3],\n",
       "       [4, 5, 6]])"
      ]
     },
     "execution_count": 7,
     "metadata": {},
     "output_type": "execute_result"
    }
   ],
   "source": [
    "arr2 = np.array([[1,2,3],[4,5,6]])\n",
    "print(arr2.ndim)\n",
    "print(arr2.shape)\n",
    "print(arr2.dtype)\n",
    "arr2"
   ]
  },
  {
   "cell_type": "code",
   "execution_count": 8,
   "id": "0d43e256-b97f-482f-bbef-3ed31dc729af",
   "metadata": {},
   "outputs": [
    {
     "name": "stdout",
     "output_type": "stream",
     "text": [
      "3\n",
      "(1, 3, 3)\n",
      "int64\n"
     ]
    },
    {
     "data": {
      "text/plain": [
       "array([[[1, 2, 3],\n",
       "        [4, 5, 6],\n",
       "        [7, 8, 9]]])"
      ]
     },
     "execution_count": 8,
     "metadata": {},
     "output_type": "execute_result"
    }
   ],
   "source": [
    "arr3 = np.array([[[1,2,3],[4,5,6],[7,8,9]]])\n",
    "print(arr3.ndim)\n",
    "print(arr3.shape)\n",
    "print(arr3.dtype)\n",
    "arr3"
   ]
  },
  {
   "cell_type": "code",
   "execution_count": null,
   "id": "d1ce9981-7693-42e3-88d6-38f1d822a923",
   "metadata": {},
   "outputs": [],
   "source": [
    "# Import pandas and create a DataFrame out of one\n",
    "# of the arrays you've created\n",
    "# Create an array of shape (10, 2) with only ones\n",
    "# Create an array of shape (7, 2, 3) of only zeros\n",
    "# Create an array within a range of 0 and 100 with step 3\n",
    "# Create a random array with numbers between 0 and 10 of size (7, 2)\n",
    "# Create a random array of floats between 0 & 1 of shape (3, 5)"
   ]
  },
  {
   "cell_type": "code",
   "execution_count": 11,
   "id": "4fe47ad4-722d-488c-a0d0-74592f7a8312",
   "metadata": {},
   "outputs": [
    {
     "data": {
      "text/html": [
       "<div>\n",
       "<style scoped>\n",
       "    .dataframe tbody tr th:only-of-type {\n",
       "        vertical-align: middle;\n",
       "    }\n",
       "\n",
       "    .dataframe tbody tr th {\n",
       "        vertical-align: top;\n",
       "    }\n",
       "\n",
       "    .dataframe thead th {\n",
       "        text-align: right;\n",
       "    }\n",
       "</style>\n",
       "<table border=\"1\" class=\"dataframe\">\n",
       "  <thead>\n",
       "    <tr style=\"text-align: right;\">\n",
       "      <th></th>\n",
       "      <th>car</th>\n",
       "    </tr>\n",
       "  </thead>\n",
       "  <tbody>\n",
       "    <tr>\n",
       "      <th>0</th>\n",
       "      <td>bmw</td>\n",
       "    </tr>\n",
       "    <tr>\n",
       "      <th>1</th>\n",
       "      <td>merc</td>\n",
       "    </tr>\n",
       "    <tr>\n",
       "      <th>2</th>\n",
       "      <td>audi</td>\n",
       "    </tr>\n",
       "  </tbody>\n",
       "</table>\n",
       "</div>"
      ],
      "text/plain": [
       "    car\n",
       "0   bmw\n",
       "1  merc\n",
       "2  audi"
      ]
     },
     "execution_count": 11,
     "metadata": {},
     "output_type": "execute_result"
    }
   ],
   "source": [
    "import pandas as pd\n",
    "df = pd.DataFrame({\"car\":[\"bmw\",\"merc\",\"audi\"]})\n",
    "df"
   ]
  },
  {
   "cell_type": "code",
   "execution_count": 16,
   "id": "7f4b8dec-fb6d-4ada-bf82-91e820442206",
   "metadata": {},
   "outputs": [
    {
     "data": {
      "text/plain": [
       "array([[1, 1],\n",
       "       [1, 1],\n",
       "       [1, 1],\n",
       "       [1, 1],\n",
       "       [1, 1],\n",
       "       [1, 1],\n",
       "       [1, 1],\n",
       "       [1, 1],\n",
       "       [1, 1],\n",
       "       [1, 1]])"
      ]
     },
     "execution_count": 16,
     "metadata": {},
     "output_type": "execute_result"
    }
   ],
   "source": [
    "ones1 = np.ones((10,2),int)\n",
    "ones1"
   ]
  },
  {
   "cell_type": "code",
   "execution_count": 19,
   "id": "d6e4b47e-6c98-40b8-81c6-36f5972dcf3d",
   "metadata": {},
   "outputs": [
    {
     "data": {
      "text/plain": [
       "array([[[0., 0., 0.],\n",
       "        [0., 0., 0.]],\n",
       "\n",
       "       [[0., 0., 0.],\n",
       "        [0., 0., 0.]],\n",
       "\n",
       "       [[0., 0., 0.],\n",
       "        [0., 0., 0.]],\n",
       "\n",
       "       [[0., 0., 0.],\n",
       "        [0., 0., 0.]],\n",
       "\n",
       "       [[0., 0., 0.],\n",
       "        [0., 0., 0.]],\n",
       "\n",
       "       [[0., 0., 0.],\n",
       "        [0., 0., 0.]],\n",
       "\n",
       "       [[0., 0., 0.],\n",
       "        [0., 0., 0.]]])"
      ]
     },
     "execution_count": 19,
     "metadata": {},
     "output_type": "execute_result"
    }
   ],
   "source": [
    "zeros = np.zeros((7,2,3),float)\n",
    "zeros"
   ]
  },
  {
   "cell_type": "code",
   "execution_count": 20,
   "id": "528e305c-206e-4141-b6e4-9349c3f4ed6b",
   "metadata": {},
   "outputs": [
    {
     "data": {
      "text/plain": [
       "array([ 0,  3,  6,  9, 12, 15, 18, 21, 24, 27, 30, 33, 36, 39, 42, 45, 48,\n",
       "       51, 54, 57, 60, 63, 66, 69, 72, 75, 78, 81, 84, 87, 90, 93, 96, 99])"
      ]
     },
     "execution_count": 20,
     "metadata": {},
     "output_type": "execute_result"
    }
   ],
   "source": [
    "arr4 = np.arange(0,100,3)\n",
    "arr4"
   ]
  },
  {
   "cell_type": "code",
   "execution_count": 22,
   "id": "84deabfe-6d03-4bd1-a785-026cffa41d13",
   "metadata": {},
   "outputs": [
    {
     "name": "stdout",
     "output_type": "stream",
     "text": [
      "[[0.67704982 0.59601161 0.88230206 0.55498422 0.78460403]\n",
      " [0.59351782 0.09212284 0.24683906 0.74024007 0.28869553]\n",
      " [0.71125501 0.64805558 0.39119011 0.64483678 0.38171947]]\n"
     ]
    }
   ],
   "source": [
    "random_array = np.random.random((3,5))\n",
    "print(random_array)"
   ]
  },
  {
   "cell_type": "code",
   "execution_count": null,
   "id": "4ed04ebc-8c19-49bd-b10b-9a499024d9e7",
   "metadata": {},
   "outputs": [],
   "source": [
    "# Set the random seed to 42\n",
    "# Create a random array of numbers between 0 & 10 of size (4, 6)\n",
    "# Create an array of random numbers between 1 & 10 of size (3, 7)\n",
    "# and save it to a variable\n",
    "\n",
    "# Find the unique numbers in the array you just created\n",
    "# Find the 0'th index of the latest array you created\n",
    "# Get the first 2 rows of latest array you created\n",
    "# Get the first 2 values of the first 2 rows of the latest array"
   ]
  },
  {
   "cell_type": "code",
   "execution_count": 28,
   "id": "553e7606-2109-4a7f-8aca-549b6081525a",
   "metadata": {},
   "outputs": [
    {
     "data": {
      "text/plain": [
       "array([[6, 3, 7, 4, 6, 9],\n",
       "       [2, 6, 7, 4, 3, 7],\n",
       "       [7, 2, 5, 4, 1, 7],\n",
       "       [5, 1, 4, 0, 9, 5]])"
      ]
     },
     "execution_count": 28,
     "metadata": {},
     "output_type": "execute_result"
    }
   ],
   "source": [
    "import random\n",
    "np.random.seed(42)\n",
    "random_array_1 = np.random.randint(0,10, size = (4,6))\n",
    "random_array_1"
   ]
  },
  {
   "cell_type": "code",
   "execution_count": 29,
   "id": "b8fa1f84-e014-41e5-a96a-1c1f5e39d783",
   "metadata": {},
   "outputs": [
    {
     "data": {
      "text/plain": [
       "array([[9, 1, 3, 7, 4, 9],\n",
       "       [3, 5, 3, 7, 5, 9],\n",
       "       [7, 2, 4, 9, 2, 9],\n",
       "       [5, 2, 4, 7, 8, 3]])"
      ]
     },
     "execution_count": 29,
     "metadata": {},
     "output_type": "execute_result"
    }
   ],
   "source": [
    "random_array_2 = np.random.randint(1,10, size = (4,6))\n",
    "random_array_2"
   ]
  },
  {
   "cell_type": "code",
   "execution_count": 30,
   "id": "578f6f67-8cb3-4409-93c0-9768cb521063",
   "metadata": {},
   "outputs": [
    {
     "data": {
      "text/plain": [
       "array([1, 2, 3, 4, 5, 7, 8, 9])"
      ]
     },
     "execution_count": 30,
     "metadata": {},
     "output_type": "execute_result"
    }
   ],
   "source": [
    "np.unique(random_array_2)"
   ]
  },
  {
   "cell_type": "code",
   "execution_count": 31,
   "id": "4967d1af-7ae6-4262-a77b-cdba7bbb3271",
   "metadata": {},
   "outputs": [
    {
     "data": {
      "text/plain": [
       "array([9, 1, 3, 7, 4, 9])"
      ]
     },
     "execution_count": 31,
     "metadata": {},
     "output_type": "execute_result"
    }
   ],
   "source": [
    "random_array_2[0]"
   ]
  },
  {
   "cell_type": "code",
   "execution_count": 32,
   "id": "eda65412-e59c-4418-9dba-2e3639ed7301",
   "metadata": {},
   "outputs": [
    {
     "data": {
      "text/plain": [
       "array([[9, 1, 3, 7, 4, 9],\n",
       "       [3, 5, 3, 7, 5, 9]])"
      ]
     },
     "execution_count": 32,
     "metadata": {},
     "output_type": "execute_result"
    }
   ],
   "source": [
    "random_array_2[:2]"
   ]
  },
  {
   "cell_type": "code",
   "execution_count": 34,
   "id": "d232cb01-e221-447e-b7b9-0a577fbf1337",
   "metadata": {},
   "outputs": [
    {
     "data": {
      "text/plain": [
       "array([[9, 1, 3, 7, 4, 9],\n",
       "       [3, 5, 3, 7, 5, 9]])"
      ]
     },
     "execution_count": 34,
     "metadata": {},
     "output_type": "execute_result"
    }
   ],
   "source": [
    "random_array_2[:2][:2]"
   ]
  },
  {
   "cell_type": "code",
   "execution_count": null,
   "id": "c8b41cd0-24f9-4c86-892f-96fcbda8dd5b",
   "metadata": {},
   "outputs": [],
   "source": [
    "# Create a random array of numbers between 0 & 10 and an array of ones\n",
    "# both of size (3, 5), save them both to variables\n",
    "# Add the two arrays together\n",
    "# Create another array of ones of shape (5, 3)\n",
    "# Try add the array of ones and the other most recent array together"
   ]
  },
  {
   "cell_type": "code",
   "execution_count": 41,
   "id": "1b45e904-51c5-4ad3-82d4-a9f95d09708a",
   "metadata": {},
   "outputs": [
    {
     "name": "stdout",
     "output_type": "stream",
     "text": [
      "[[6 7 7]\n",
      " [8 1 5]\n",
      " [9 8 9]\n",
      " [4 3 0]\n",
      " [3 5 0]]\n"
     ]
    },
    {
     "data": {
      "text/plain": [
       "array([[12,  9, 13,  8, 11],\n",
       "       [17,  5, 14,  6, 10],\n",
       "       [15, 12, 18,  9,  2]])"
      ]
     },
     "execution_count": 41,
     "metadata": {},
     "output_type": "execute_result"
    }
   ],
   "source": [
    "np.random.seed(0)\n",
    "ones_2 = np.ones((3,5),int)\n",
    "random_array_3 = np.random.randint(10, size = (3,5))\n",
    "arr6 = ones_2 + random_array_3\n",
    "random_array_4 = np.random.randint(10, size = (5,3))\n",
    "print(random_array_4)\n",
    "arr6 + random_array_4.T"
   ]
  },
  {
   "cell_type": "code",
   "execution_count": null,
   "id": "3faeba19-ee69-4cf5-b287-9acf49b89483",
   "metadata": {},
   "outputs": [],
   "source": [
    "# Create another array of ones of shape (3, 5)\n",
    "# Subtract the new array of ones from the other most recent array\n",
    "# Multiply the ones array with the latest array\n",
    "# Take the latest array to the power of 2 using '**'\n",
    "# Do the same thing with np.square()\n",
    "# Find the mean of the latest array using np.mean()\n",
    "# Find the maximum of the latest array using np.max()\n",
    "# Find the minimum of the latest array using np.min()\n",
    "# Find the standard deviation of the latest array\n",
    "# Find the variance of the latest array\n",
    "# Reshape the latest array to (3, 5, 1)"
   ]
  },
  {
   "cell_type": "code",
   "execution_count": 43,
   "id": "17fdbdf7-60b5-4f7b-becf-e156bdb52973",
   "metadata": {},
   "outputs": [
    {
     "data": {
      "text/plain": [
       "array([[1., 1., 1., 1., 1.],\n",
       "       [1., 1., 1., 1., 1.],\n",
       "       [1., 1., 1., 1., 1.]])"
      ]
     },
     "execution_count": 43,
     "metadata": {},
     "output_type": "execute_result"
    }
   ],
   "source": [
    "arr7 = np.ones((3,5))\n",
    "arr7"
   ]
  },
  {
   "cell_type": "code",
   "execution_count": 46,
   "id": "07a69a14-9c9b-4894-acbe-4b04a6716af5",
   "metadata": {},
   "outputs": [
    {
     "data": {
      "text/plain": [
       "array([[ 5.,  7.,  8.,  3.,  2.],\n",
       "       [ 6.,  0.,  7.,  2.,  4.],\n",
       "       [ 6.,  4.,  8., -1., -1.]])"
      ]
     },
     "execution_count": 46,
     "metadata": {},
     "output_type": "execute_result"
    }
   ],
   "source": [
    "arr8 = random_array_4.T - arr7 \n",
    "arr8"
   ]
  },
  {
   "cell_type": "code",
   "execution_count": 47,
   "id": "690e7af0-ca58-4000-96f7-5206ec57b52a",
   "metadata": {},
   "outputs": [
    {
     "data": {
      "text/plain": [
       "array([[ 5.,  7.,  8.,  3.,  2.],\n",
       "       [ 6.,  0.,  7.,  2.,  4.],\n",
       "       [ 6.,  4.,  8., -1., -1.]])"
      ]
     },
     "execution_count": 47,
     "metadata": {},
     "output_type": "execute_result"
    }
   ],
   "source": [
    "arr7 * arr8"
   ]
  },
  {
   "cell_type": "code",
   "execution_count": 48,
   "id": "75218d54-b82d-456b-b976-8cc5838d338b",
   "metadata": {},
   "outputs": [
    {
     "data": {
      "text/plain": [
       "array([[25., 49., 64.,  9.,  4.],\n",
       "       [36.,  0., 49.,  4., 16.],\n",
       "       [36., 16., 64.,  1.,  1.]])"
      ]
     },
     "execution_count": 48,
     "metadata": {},
     "output_type": "execute_result"
    }
   ],
   "source": [
    "arr8 ** 2"
   ]
  },
  {
   "cell_type": "code",
   "execution_count": 49,
   "id": "4374a3a5-834b-43a2-a058-222ab7b92efb",
   "metadata": {},
   "outputs": [
    {
     "data": {
      "text/plain": [
       "array([[25., 49., 64.,  9.,  4.],\n",
       "       [36.,  0., 49.,  4., 16.],\n",
       "       [36., 16., 64.,  1.,  1.]])"
      ]
     },
     "execution_count": 49,
     "metadata": {},
     "output_type": "execute_result"
    }
   ],
   "source": [
    "np.square(arr8)"
   ]
  },
  {
   "cell_type": "code",
   "execution_count": 50,
   "id": "a53ad2db-bcce-41a0-85a4-9b6c908378d1",
   "metadata": {},
   "outputs": [
    {
     "data": {
      "text/plain": [
       "(4.0, 8.0, -1.0, 2.988868236194653, 8.933333333333334)"
      ]
     },
     "execution_count": 50,
     "metadata": {},
     "output_type": "execute_result"
    }
   ],
   "source": [
    "np.mean(arr8), np.max(arr8), np.min(arr8), np.std(arr8), np.var(arr8)"
   ]
  },
  {
   "cell_type": "code",
   "execution_count": 51,
   "id": "10a2c877-cf44-4c0f-a744-6e598629f9b0",
   "metadata": {},
   "outputs": [
    {
     "data": {
      "text/plain": [
       "array([[[ 5.],\n",
       "        [ 7.],\n",
       "        [ 8.],\n",
       "        [ 3.],\n",
       "        [ 2.]],\n",
       "\n",
       "       [[ 6.],\n",
       "        [ 0.],\n",
       "        [ 7.],\n",
       "        [ 2.],\n",
       "        [ 4.]],\n",
       "\n",
       "       [[ 6.],\n",
       "        [ 4.],\n",
       "        [ 8.],\n",
       "        [-1.],\n",
       "        [-1.]]])"
      ]
     },
     "execution_count": 51,
     "metadata": {},
     "output_type": "execute_result"
    }
   ],
   "source": [
    "arr8.reshape(3,5,1)"
   ]
  },
  {
   "cell_type": "code",
   "execution_count": null,
   "id": "4da6543b-b6d8-4be1-9203-14da9eb31e0c",
   "metadata": {},
   "outputs": [],
   "source": [
    "# Create two arrays of random integers between 0 to 10\n",
    "# one of size (3, 3) the other of size (3, 2)\n",
    "# Perform a dot product on the two newest arrays you created\n",
    "# Create two arrays of random integers between 0 to 10\n",
    "# both of size (4, 3)\n",
    "# Perform a dot product on the two newest arrays you created\n",
    "# Take the latest two arrays, perform a transpose on one of them and then perform \n",
    "# a dot product on them both"
   ]
  },
  {
   "cell_type": "code",
   "execution_count": 52,
   "id": "74b66d6b-f2e0-45af-85e4-a57c028ef170",
   "metadata": {},
   "outputs": [
    {
     "data": {
      "text/plain": [
       "array([[61, 74],\n",
       "       [40, 30],\n",
       "       [66, 27]])"
      ]
     },
     "execution_count": 52,
     "metadata": {},
     "output_type": "execute_result"
    }
   ],
   "source": [
    "arr9 = np.random.randint(10, size = (3,3))\n",
    "arr10 = np.random.randint(10, size = (3,2))\n",
    "np.dot(arr9, arr10)"
   ]
  },
  {
   "cell_type": "code",
   "execution_count": null,
   "id": "c58b6f4b-0532-4cf8-831b-5cad44bf8607",
   "metadata": {},
   "outputs": [],
   "source": [
    "#Create two arrays of random integers between 0 & 10 of the same shape\n",
    "# and save them to variables\n",
    "# Compare the two arrays with '>'\n",
    "# Compare the two arrays with '>='\n",
    "# Find which elements of the first array are greater than 7\n",
    "# Which parts of each array are equal? (try using '==')\n",
    "# Sort one of the arrays you just created in ascending order\n",
    "# Sort the indexes of one of the arrays you just created\n",
    "# Find the index with the maximum value in one of the arrays you've created\n",
    "# Find the index with the minimum value in one of the arrays you've created\n",
    "# Find the indexes with the maximum values down the 1st axis (axis=1)\n",
    "# of one of the arrays you created\n",
    "# Find the indexes with the minimum values across the 0th axis (axis=0)\n",
    "# of one of the arrays you created\n",
    "# Create an array of normally distributed random numbers\n",
    "# Create an array with 10 evenly spaced numbers between 1 and 100v\n"
   ]
  },
  {
   "cell_type": "code",
   "execution_count": 56,
   "id": "7f57843e-6309-4854-a230-da5264508b72",
   "metadata": {},
   "outputs": [
    {
     "data": {
      "text/plain": [
       "(array([[ True,  True],\n",
       "        [False, False],\n",
       "        [ True,  True]]),\n",
       " array([[ True,  True],\n",
       "        [False, False],\n",
       "        [ True,  True]]),\n",
       " array([[False, False],\n",
       "        [False, False],\n",
       "        [ True, False]]),\n",
       " array([[False, False],\n",
       "        [False, False],\n",
       "        [False, False]]))"
      ]
     },
     "execution_count": 56,
     "metadata": {},
     "output_type": "execute_result"
    }
   ],
   "source": [
    "arr11 = np.random.randint(10,size = (3,2))\n",
    "arr12 = np.random.randint(10,size = (3,2))\n",
    "arr11 > arr12, arr11>= arr12, arr11>7, arr11 == arr12"
   ]
  },
  {
   "cell_type": "code",
   "execution_count": 57,
   "id": "be9d0c51-0690-4297-8125-c3e695ca9535",
   "metadata": {},
   "outputs": [
    {
     "data": {
      "text/plain": [
       "(array([[4, 5],\n",
       "        [5, 6],\n",
       "        [4, 8]]),\n",
       " array([[0, 1],\n",
       "        [0, 1],\n",
       "        [1, 0]]))"
      ]
     },
     "execution_count": 57,
     "metadata": {},
     "output_type": "execute_result"
    }
   ],
   "source": [
    "np.sort(arr11), np.argsort(arr11)"
   ]
  },
  {
   "cell_type": "code",
   "execution_count": 59,
   "id": "518a09a6-452d-4c5c-8f60-9ec010efc0a0",
   "metadata": {},
   "outputs": [
    {
     "data": {
      "text/plain": [
       "4"
      ]
     },
     "execution_count": 59,
     "metadata": {},
     "output_type": "execute_result"
    }
   ],
   "source": [
    "np.argmax(arr11)"
   ]
  },
  {
   "cell_type": "code",
   "execution_count": 60,
   "id": "9c54c932-c825-413f-9336-89cbfd984827",
   "metadata": {},
   "outputs": [
    {
     "data": {
      "text/plain": [
       "0"
      ]
     },
     "execution_count": 60,
     "metadata": {},
     "output_type": "execute_result"
    }
   ],
   "source": [
    "np.argmin(arr11)"
   ]
  },
  {
   "cell_type": "code",
   "execution_count": 61,
   "id": "a03c10fa-ecc9-4846-87ef-2bceda661ca5",
   "metadata": {},
   "outputs": [
    {
     "data": {
      "text/plain": [
       "array([0, 0, 1])"
      ]
     },
     "execution_count": 61,
     "metadata": {},
     "output_type": "execute_result"
    }
   ],
   "source": [
    "np.argmin(arr11, axis =1)"
   ]
  },
  {
   "cell_type": "code",
   "execution_count": 62,
   "id": "a0c64d1e-f504-4aa9-87ef-29463922d937",
   "metadata": {},
   "outputs": [
    {
     "data": {
      "text/plain": [
       "array([[-1.02617878,  0.47752547,  1.29269823, -0.73145824, -1.60540226],\n",
       "       [ 0.98947618,  0.11081461, -0.38093141,  0.11495917,  0.34531264],\n",
       "       [-1.73495876,  1.65835111,  2.29977152, -0.47113526,  1.26271548]])"
      ]
     },
     "execution_count": 62,
     "metadata": {},
     "output_type": "execute_result"
    }
   ],
   "source": [
    "np.random.randn(3,5)"
   ]
  },
  {
   "cell_type": "code",
   "execution_count": 63,
   "id": "2de99be3-285c-4545-91d7-ecab93d555ec",
   "metadata": {},
   "outputs": [
    {
     "data": {
      "text/plain": [
       "array([  1.,  12.,  23.,  34.,  45.,  56.,  67.,  78.,  89., 100.])"
      ]
     },
     "execution_count": 63,
     "metadata": {},
     "output_type": "execute_result"
    }
   ],
   "source": [
    "np.linspace(1,100,10)"
   ]
  },
  {
   "cell_type": "code",
   "execution_count": null,
   "id": "f260e12e-0015-4810-b842-ee682c268baf",
   "metadata": {},
   "outputs": [],
   "source": []
  }
 ],
 "metadata": {
  "kernelspec": {
   "display_name": "Python 3 (ipykernel)",
   "language": "python",
   "name": "python3"
  },
  "language_info": {
   "codemirror_mode": {
    "name": "ipython",
    "version": 3
   },
   "file_extension": ".py",
   "mimetype": "text/x-python",
   "name": "python",
   "nbconvert_exporter": "python",
   "pygments_lexer": "ipython3",
   "version": "3.12.3"
  }
 },
 "nbformat": 4,
 "nbformat_minor": 5
}
