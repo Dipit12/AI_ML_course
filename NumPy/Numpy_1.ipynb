{
 "cells": [
  {
   "cell_type": "markdown",
   "id": "d0da0d8f-a32f-4703-bddd-e54e95e50d49",
   "metadata": {},
   "source": [
    "# Intro to Numpy"
   ]
  },
  {
   "cell_type": "markdown",
   "id": "b336b589-bb6d-4077-a3d6-e3975c4ef181",
   "metadata": {},
   "source": [
    "NumPy stands for numerical Python. It's the backbone of all kinds of scientific and numerical computing in Python.\n",
    "\n",
    "And since machine learning is all about turning data into numbers and then figuring out the patterns, NumPy often comes into play"
   ]
  },
  {
   "attachments": {},
   "cell_type": "markdown",
   "id": "fac88317-5b7e-4a7e-a9f9-bd04d25bba9e",
   "metadata": {},
   "source": [
    "# Topics to Cover\n",
    "1. Most useful functions\n",
    "2. NumPy datatypes and attributes\n",
    "3. Creating Arrays\n",
    "4. Viewing Arrays and matrices\n",
    "5. Manipulating and comparing arrays\n",
    "6. Sorting Arrays\n",
    "7. Use cases"
   ]
  },
  {
   "cell_type": "markdown",
   "id": "5c9c1d12-549c-47b3-9887-24236fe7d06b",
   "metadata": {},
   "source": [
    "# Why NumPy\n",
    "We can do numerical calculations using pure Python. In the beginning, you might think Python is fast but once your data gets large, you'll start to notice slow downs.\n",
    "\n",
    "One of the main reasons you use NumPy is because it's fast. Behind the scenes, the code has been optimized to run using C. Which is another programming language, which can do things much faster than Python.\n",
    "\n"
   ]
  },
  {
   "cell_type": "code",
   "execution_count": 1,
   "id": "893f44eb-03bb-4e90-929b-0045675e3571",
   "metadata": {},
   "outputs": [],
   "source": [
    "import numpy as np"
   ]
  },
  {
   "cell_type": "code",
   "execution_count": 2,
   "id": "fec61392-9f5f-435e-a750-152b892e2f58",
   "metadata": {},
   "outputs": [
    {
     "name": "stdout",
     "output_type": "stream",
     "text": [
      "1.26.4\n"
     ]
    }
   ],
   "source": [
    "print(np.__version__)"
   ]
  },
  {
   "cell_type": "markdown",
   "id": "7fe9968a-fbc7-4576-b885-d728c5d5be40",
   "metadata": {},
   "source": [
    "# DataTypes & Attributes"
   ]
  },
  {
   "cell_type": "code",
   "execution_count": 11,
   "id": "3ed57b6d-1491-408f-8340-1233feac4765",
   "metadata": {},
   "outputs": [
    {
     "data": {
      "text/plain": [
       "array([1, 2, 3, 4, 2])"
      ]
     },
     "execution_count": 11,
     "metadata": {},
     "output_type": "execute_result"
    }
   ],
   "source": [
    "#numpy's main datatype is ndarray\n",
    "a1 = np.array([1,2,3,4,2]) # created using passing a list , its a vector\n",
    "a1"
   ]
  },
  {
   "cell_type": "code",
   "execution_count": 4,
   "id": "3da7cb5d-ce7b-4c25-bbda-e75d35c85ecd",
   "metadata": {},
   "outputs": [
    {
     "data": {
      "text/plain": [
       "numpy.ndarray"
      ]
     },
     "execution_count": 4,
     "metadata": {},
     "output_type": "execute_result"
    }
   ],
   "source": [
    "type(a1) #"
   ]
  },
  {
   "cell_type": "code",
   "execution_count": 10,
   "id": "e48111ad-f5e8-4273-98d3-fbcba3fc3d87",
   "metadata": {},
   "outputs": [
    {
     "name": "stdout",
     "output_type": "stream",
     "text": [
      "[[1.  2.  3.3]\n",
      " [4.  5.  6.5]]\n",
      "[[[ 1  2  3]\n",
      "  [ 4  5  6]\n",
      "  [ 7  8  9]]\n",
      "\n",
      " [[10 11 12]\n",
      "  [13 14 15]\n",
      "  [16 17 18]]]\n"
     ]
    }
   ],
   "source": [
    "a2 = np.array([[1, 2.0, 3.3],  #matrix\n",
    "               [4, 5, 6.5]])\n",
    "a3 = np.array([[[1, 2, 3],\n",
    "                [4, 5, 6],\n",
    "                [7, 8, 9]],\n",
    "                [[10, 11, 12],\n",
    "                 [13, 14, 15],\n",
    "                 [16, 17, 18]]])\n",
    "\n",
    "print(a2)\n",
    "print(a3)"
   ]
  },
  {
   "cell_type": "code",
   "execution_count": 16,
   "id": "e8c75e0b-ccbc-4334-9809-edb6a29fba33",
   "metadata": {},
   "outputs": [
    {
     "data": {
      "text/plain": [
       "(5,)"
      ]
     },
     "execution_count": 16,
     "metadata": {},
     "output_type": "execute_result"
    }
   ],
   "source": [
    "# attributes\n",
    "a1.shape \n"
   ]
  },
  {
   "cell_type": "code",
   "execution_count": 14,
   "id": "bf784d9a-e726-4a35-86f0-316e093e2e51",
   "metadata": {},
   "outputs": [
    {
     "data": {
      "text/plain": [
       "(2, 3)"
      ]
     },
     "execution_count": 14,
     "metadata": {},
     "output_type": "execute_result"
    }
   ],
   "source": [
    "a2.shape"
   ]
  },
  {
   "cell_type": "code",
   "execution_count": 15,
   "id": "0dc359a1-8664-419f-b397-16436b5bc0fd",
   "metadata": {},
   "outputs": [
    {
     "data": {
      "text/plain": [
       "(2, 3, 3)"
      ]
     },
     "execution_count": 15,
     "metadata": {},
     "output_type": "execute_result"
    }
   ],
   "source": [
    "a3.shape"
   ]
  },
  {
   "cell_type": "code",
   "execution_count": 17,
   "id": "585e57d1-f3cc-49a3-b0f3-5e41932d4366",
   "metadata": {},
   "outputs": [
    {
     "data": {
      "text/plain": [
       "dtype('int64')"
      ]
     },
     "execution_count": 17,
     "metadata": {},
     "output_type": "execute_result"
    }
   ],
   "source": [
    "a1.dtype # tells the data type"
   ]
  },
  {
   "cell_type": "code",
   "execution_count": 18,
   "id": "e41985b3-a896-492b-9431-1d9f4e062695",
   "metadata": {},
   "outputs": [
    {
     "data": {
      "text/plain": [
       "2"
      ]
     },
     "execution_count": 18,
     "metadata": {},
     "output_type": "execute_result"
    }
   ],
   "source": [
    "a2.ndim # tells the dimension"
   ]
  },
  {
   "cell_type": "code",
   "execution_count": 19,
   "id": "70db2daf-9a25-4ccb-b898-6660164ecd9a",
   "metadata": {},
   "outputs": [
    {
     "data": {
      "text/plain": [
       "3"
      ]
     },
     "execution_count": 19,
     "metadata": {},
     "output_type": "execute_result"
    }
   ],
   "source": [
    "a3.ndim"
   ]
  },
  {
   "cell_type": "code",
   "execution_count": 20,
   "id": "d0fd3831-66d1-42f7-827b-afa501839e04",
   "metadata": {},
   "outputs": [],
   "source": [
    "import pandas as pd"
   ]
  },
  {
   "cell_type": "code",
   "execution_count": 21,
   "id": "3a285c6a-6406-410c-bd85-5ebf0bf30545",
   "metadata": {},
   "outputs": [
    {
     "data": {
      "text/html": [
       "<div>\n",
       "<style scoped>\n",
       "    .dataframe tbody tr th:only-of-type {\n",
       "        vertical-align: middle;\n",
       "    }\n",
       "\n",
       "    .dataframe tbody tr th {\n",
       "        vertical-align: top;\n",
       "    }\n",
       "\n",
       "    .dataframe thead th {\n",
       "        text-align: right;\n",
       "    }\n",
       "</style>\n",
       "<table border=\"1\" class=\"dataframe\">\n",
       "  <thead>\n",
       "    <tr style=\"text-align: right;\">\n",
       "      <th></th>\n",
       "      <th>0</th>\n",
       "    </tr>\n",
       "  </thead>\n",
       "  <tbody>\n",
       "    <tr>\n",
       "      <th>0</th>\n",
       "      <td>1</td>\n",
       "    </tr>\n",
       "    <tr>\n",
       "      <th>1</th>\n",
       "      <td>23</td>\n",
       "    </tr>\n",
       "    <tr>\n",
       "      <th>2</th>\n",
       "      <td>4</td>\n",
       "    </tr>\n",
       "    <tr>\n",
       "      <th>3</th>\n",
       "      <td>4</td>\n",
       "    </tr>\n",
       "    <tr>\n",
       "      <th>4</th>\n",
       "      <td>5</td>\n",
       "    </tr>\n",
       "  </tbody>\n",
       "</table>\n",
       "</div>"
      ],
      "text/plain": [
       "    0\n",
       "0   1\n",
       "1  23\n",
       "2   4\n",
       "3   4\n",
       "4   5"
      ]
     },
     "execution_count": 21,
     "metadata": {},
     "output_type": "execute_result"
    }
   ],
   "source": [
    "lst = [1,23,4,4,5]\n",
    "df = pd.DataFrame(lst)\n",
    "df"
   ]
  },
  {
   "cell_type": "code",
   "execution_count": 23,
   "id": "1a58fe9e-0a83-4291-94ac-6cace80fb008",
   "metadata": {},
   "outputs": [
    {
     "data": {
      "text/plain": [
       "array([[ 1],\n",
       "       [23],\n",
       "       [ 4],\n",
       "       [ 4],\n",
       "       [ 5]])"
      ]
     },
     "execution_count": 23,
     "metadata": {},
     "output_type": "execute_result"
    }
   ],
   "source": [
    "n3 = np.array(df)\n",
    "n3"
   ]
  },
  {
   "cell_type": "code",
   "execution_count": 24,
   "id": "8215a90c-027f-4b0f-be74-5a05b2938df9",
   "metadata": {},
   "outputs": [
    {
     "data": {
      "text/plain": [
       "2"
      ]
     },
     "execution_count": 24,
     "metadata": {},
     "output_type": "execute_result"
    }
   ],
   "source": [
    "n3.ndim"
   ]
  },
  {
   "cell_type": "code",
   "execution_count": 6,
   "id": "bd553aa6-1c62-4080-975e-12d1c3ac1348",
   "metadata": {},
   "outputs": [
    {
     "data": {
      "text/plain": [
       "4"
      ]
     },
     "execution_count": 6,
     "metadata": {},
     "output_type": "execute_result"
    }
   ],
   "source": [
    "import random\n",
    "import numpy as np\n",
    "a4 = np.array([1,2,3,4])\n",
    "a4.size # returns no of elements in an array"
   ]
  },
  {
   "cell_type": "code",
   "execution_count": 15,
   "id": "8d210824-4253-4bc0-9480-a2b95a27be11",
   "metadata": {},
   "outputs": [
    {
     "name": "stdout",
     "output_type": "stream",
     "text": [
      "[[1 2 3]\n",
      " [4 5 6]]\n",
      "6\n",
      "<class 'numpy.ndarray'>\n"
     ]
    }
   ],
   "source": [
    "a5 = np.array([[1,2,3],[4,5,6]])\n",
    "print(a5)\n",
    "print(a5.size)\n",
    "print(type(a5))"
   ]
  },
  {
   "cell_type": "code",
   "execution_count": 11,
   "id": "41e24242-4ece-48f8-888f-faa8e64ab06f",
   "metadata": {},
   "outputs": [
    {
     "name": "stdout",
     "output_type": "stream",
     "text": [
      "   0  1  2\n",
      "0  1  2  3\n",
      "1  4  5  6\n"
     ]
    }
   ],
   "source": [
    "#creating a dataframe from numpy arrays\n",
    "import pandas as pd\n",
    "df = pd.DataFrame(a5)\n",
    "print(df)"
   ]
  },
  {
   "cell_type": "markdown",
   "id": "b621078e-0f57-46ac-8f01-4ae4175fcb64",
   "metadata": {},
   "source": [
    "# Creating Arrays\n",
    "We can create arrays using:\n",
    "1. np.array()\n",
    "2. np.ones()\n",
    "3. np.zeros()\n",
    "4. np.random.rand()\n",
    "5. np.random.randint()\n",
    "6. np.random.seed() - pseudo random numbers"
   ]
  },
  {
   "cell_type": "code",
   "execution_count": 17,
   "id": "49e036e4-c91d-4fba-8daa-79773837ca98",
   "metadata": {},
   "outputs": [
    {
     "name": "stdout",
     "output_type": "stream",
     "text": [
      "[[1. 1.]\n",
      " [1. 1.]\n",
      " [1. 1.]\n",
      " [1. 1.]\n",
      " [1. 1.]\n",
      " [1. 1.]\n",
      " [1. 1.]\n",
      " [1. 1.]\n",
      " [1. 1.]\n",
      " [1. 1.]]\n"
     ]
    }
   ],
   "source": [
    "ones = np.ones((10,2)) # would print out 10 rows of ones with 2 columns\n",
    "print(ones)"
   ]
  },
  {
   "cell_type": "code",
   "execution_count": 18,
   "id": "4799b965-2b01-4436-aa8a-a8ac2387b7fd",
   "metadata": {},
   "outputs": [
    {
     "data": {
      "text/plain": [
       "array([[1., 1., 1., 1.],\n",
       "       [1., 1., 1., 1.],\n",
       "       [1., 1., 1., 1.]])"
      ]
     },
     "execution_count": 18,
     "metadata": {},
     "output_type": "execute_result"
    }
   ],
   "source": [
    "ones1 = np.ones((3,4)) # would print 3 rows and 4 columns of ones\n",
    "ones1"
   ]
  },
  {
   "cell_type": "code",
   "execution_count": 19,
   "id": "de5ef3db-047e-4070-a81f-243503e005f3",
   "metadata": {},
   "outputs": [
    {
     "name": "stdout",
     "output_type": "stream",
     "text": [
      "[[0. 0. 0.]\n",
      " [0. 0. 0.]]\n"
     ]
    }
   ],
   "source": [
    "zeros = np.zeros((2,3)) # would print a matrix of 2*3 filled with zeroes\n",
    "print(zeros)"
   ]
  },
  {
   "cell_type": "code",
   "execution_count": 20,
   "id": "ee61a4f0-8527-41ad-af22-25178e30a984",
   "metadata": {},
   "outputs": [
    {
     "name": "stdout",
     "output_type": "stream",
     "text": [
      "[0 2 4 6 8]\n"
     ]
    }
   ],
   "source": [
    "random_range = np.arange(0,10,2) # of the format (start,stop,step)\n",
    "print(random_range)"
   ]
  },
  {
   "cell_type": "code",
   "execution_count": 24,
   "id": "ce79f0e3-7a44-4b74-8fe3-c8e973cd430c",
   "metadata": {},
   "outputs": [
    {
     "name": "stdout",
     "output_type": "stream",
     "text": [
      "[3 8 9]\n"
     ]
    }
   ],
   "source": [
    "random_arr = np.random.randint(0,10,3,int) # syntax: low,high,size,dtype\n",
    "print(random_arr)"
   ]
  },
  {
   "cell_type": "code",
   "execution_count": 30,
   "id": "2ae52b14-e657-41fd-a3c6-7299cc7bdb2e",
   "metadata": {},
   "outputs": [
    {
     "name": "stdout",
     "output_type": "stream",
     "text": [
      "[[41 34 11]\n",
      " [47 47  8]]\n",
      "6\n"
     ]
    },
    {
     "data": {
      "text/plain": [
       "(2, 3)"
      ]
     },
     "execution_count": 30,
     "metadata": {},
     "output_type": "execute_result"
    }
   ],
   "source": [
    "# random array of specific size\n",
    "random_arr2 = np.random.randint(0,50,size = (2,3))\n",
    "print(random_arr2)\n",
    "print(random_arr2.size)\n",
    "random_arr2.shape  # returns the construct of the matrix "
   ]
  },
  {
   "cell_type": "code",
   "execution_count": 31,
   "id": "a018d9a9-8609-465a-9b85-28ee932c6604",
   "metadata": {},
   "outputs": [
    {
     "data": {
      "text/plain": [
       "array([[0.79802673, 0.15379691, 0.9525515 ],\n",
       "       [0.02426567, 0.16814673, 0.92283847],\n",
       "       [0.38234979, 0.59118169, 0.41484649],\n",
       "       [0.89826227, 0.82606559, 0.89272934],\n",
       "       [0.26725382, 0.09150287, 0.48803823]])"
      ]
     },
     "execution_count": 31,
     "metadata": {},
     "output_type": "execute_result"
    }
   ],
   "source": [
    "random_arr3 = np.random.random((5,3)) # returns an array of the given size where values are random between 0 and 1\n",
    "random_arr3"
   ]
  },
  {
   "cell_type": "code",
   "execution_count": 36,
   "id": "5b0a208b-c263-4f95-92f7-243d570568cc",
   "metadata": {},
   "outputs": [
    {
     "data": {
      "text/plain": [
       "array([[12,  5,  0],\n",
       "       [ 3, 11,  3]])"
      ]
     },
     "execution_count": 36,
     "metadata": {},
     "output_type": "execute_result"
    }
   ],
   "source": [
    "#Pseudo random numbers - used when random numbers generated,have to be made static\n",
    "# Setting np.random.seed() is not 100% necessary but it's helpful to keep numbers the same throughout your experiments.\n",
    "np.random.seed(0)\n",
    "random_arr4 = np.random.randint(0,13,size=(2,3))\n",
    "random_arr4 # would return a random number everytime we run this code \n",
    "\n"
   ]
  },
  {
   "cell_type": "code",
   "execution_count": 40,
   "id": "30472007-4ce0-40f5-b085-0b4e9bc6253f",
   "metadata": {},
   "outputs": [
    {
     "name": "stdout",
     "output_type": "stream",
     "text": [
      "[[1 2 3]\n",
      " [4 5 6]]\n"
     ]
    },
    {
     "data": {
      "text/plain": [
       "array([1, 2, 3, 4, 5, 6])"
      ]
     },
     "execution_count": 40,
     "metadata": {},
     "output_type": "execute_result"
    }
   ],
   "source": [
    "#finding unique elements in a numpy array\n",
    "print(a5)\n",
    "np.unique(a5) # to find unique elements in a array"
   ]
  },
  {
   "cell_type": "markdown",
   "id": "1aee9682-f9d2-4321-80d8-70402b5e5195",
   "metadata": {},
   "source": [
    "# Viewing array and matrices(indexing)"
   ]
  },
  {
   "cell_type": "code",
   "execution_count": 51,
   "id": "0780d1ac-cf14-48aa-b475-6eae50b1007d",
   "metadata": {},
   "outputs": [
    {
     "name": "stdout",
     "output_type": "stream",
     "text": [
      "[[1 2 3]\n",
      " [4 5 6]]\n",
      "[1 2 3]\n",
      "[4 5 6]\n"
     ]
    },
    {
     "data": {
      "text/plain": [
       "(2, 3)"
      ]
     },
     "execution_count": 51,
     "metadata": {},
     "output_type": "execute_result"
    }
   ],
   "source": [
    "print(a5)\n",
    "print(a5[0])\n",
    "print(a5[1])\n",
    "a5.shape"
   ]
  },
  {
   "cell_type": "code",
   "execution_count": 47,
   "id": "0515f28d-742c-447a-8dc1-d8a671226729",
   "metadata": {},
   "outputs": [
    {
     "data": {
      "text/plain": [
       "array([[[ 1,  2,  3],\n",
       "        [ 5,  6,  7],\n",
       "        [ 8,  9, 10]]])"
      ]
     },
     "execution_count": 47,
     "metadata": {},
     "output_type": "execute_result"
    }
   ],
   "source": [
    "a6 = np.array([[[1,2,3],[5,6,7],[8,9,10]]])\n",
    "a6"
   ]
  },
  {
   "cell_type": "code",
   "execution_count": 48,
   "id": "7811047d-ae88-409b-a2a6-bea32ae54fc8",
   "metadata": {},
   "outputs": [
    {
     "name": "stdout",
     "output_type": "stream",
     "text": [
      "[ 1  2  3  5  6  7  8  9 10]\n"
     ]
    }
   ],
   "source": [
    "print(np.unique(a6))"
   ]
  },
  {
   "cell_type": "code",
   "execution_count": 52,
   "id": "0b85d668-a97e-42fa-a372-f9a65ea61908",
   "metadata": {},
   "outputs": [
    {
     "name": "stdout",
     "output_type": "stream",
     "text": [
      "[[1 2]\n",
      " [4 5]]\n"
     ]
    }
   ],
   "source": [
    "print(a5[:2,:2])"
   ]
  },
  {
   "cell_type": "markdown",
   "id": "210cf6cc-f728-4364-8bf1-315dfdee2f66",
   "metadata": {},
   "source": [
    "# Manipulating Arrays"
   ]
  },
  {
   "cell_type": "code",
   "execution_count": 53,
   "id": "d6821d13-5488-4b71-8558-a78472c5e215",
   "metadata": {},
   "outputs": [
    {
     "data": {
      "text/plain": [
       "array([1., 1., 1.])"
      ]
     },
     "execution_count": 53,
     "metadata": {},
     "output_type": "execute_result"
    }
   ],
   "source": [
    "# Arithematic operators\n",
    "ones_3 = np.ones(3)\n",
    "ones_3"
   ]
  },
  {
   "cell_type": "code",
   "execution_count": 54,
   "id": "46e2bd71-0b9d-455b-9a0f-263ad4b70eac",
   "metadata": {},
   "outputs": [
    {
     "data": {
      "text/plain": [
       "array([[1, 2, 3],\n",
       "       [4, 5, 6]])"
      ]
     },
     "execution_count": 54,
     "metadata": {},
     "output_type": "execute_result"
    }
   ],
   "source": [
    "a5"
   ]
  },
  {
   "cell_type": "code",
   "execution_count": 55,
   "id": "04509716-ceff-44e7-ada7-afa28f090e63",
   "metadata": {},
   "outputs": [
    {
     "name": "stdout",
     "output_type": "stream",
     "text": [
      "[[2. 3. 4.]\n",
      " [5. 6. 7.]]\n"
     ]
    }
   ],
   "source": [
    "print(ones_3 + a5)"
   ]
  },
  {
   "cell_type": "code",
   "execution_count": 56,
   "id": "5a365a77-7b40-42bb-bf58-212279cb8977",
   "metadata": {},
   "outputs": [
    {
     "name": "stdout",
     "output_type": "stream",
     "text": [
      "[[ 0. -1. -2.]\n",
      " [-3. -4. -5.]]\n"
     ]
    }
   ],
   "source": [
    "print(ones_3  - a5)"
   ]
  },
  {
   "cell_type": "code",
   "execution_count": 57,
   "id": "ffa77767-20bf-4b3a-81a1-e7e0f63ca197",
   "metadata": {},
   "outputs": [
    {
     "name": "stdout",
     "output_type": "stream",
     "text": [
      "[[1. 2. 3.]\n",
      " [4. 5. 6.]]\n"
     ]
    }
   ],
   "source": [
    "print(ones_3 * a5)"
   ]
  },
  {
   "cell_type": "code",
   "execution_count": 61,
   "id": "c34b6ee3-6c7d-4697-86c3-d56ec4c81fd1",
   "metadata": {},
   "outputs": [
    {
     "name": "stdout",
     "output_type": "stream",
     "text": [
      "[[1.         0.5        0.33333333]\n",
      " [0.25       0.2        0.16666667]]\n"
     ]
    }
   ],
   "source": [
    "print(ones_3 / a5) "
   ]
  },
  {
   "cell_type": "code",
   "execution_count": 62,
   "id": "05ba6390-7d76-4a45-b54c-405a115213ce",
   "metadata": {},
   "outputs": [
    {
     "name": "stdout",
     "output_type": "stream",
     "text": [
      "[[1. 2. 3.]\n",
      " [4. 5. 6.]]\n",
      "[[1. 2. 3.]\n",
      " [4. 5. 6.]]\n",
      "[[0. 0. 0.]\n",
      " [0. 0. 0.]]\n"
     ]
    }
   ],
   "source": [
    "print(a5 // ones_3)\n",
    "print(a5 ** ones_3)\n",
    "print(a5 % ones_3)"
   ]
  },
  {
   "cell_type": "code",
   "execution_count": 64,
   "id": "e11f6f04-e03f-481a-885c-cd1fb0c76ebb",
   "metadata": {},
   "outputs": [
    {
     "name": "stdout",
     "output_type": "stream",
     "text": [
      "[[  2.71828183   7.3890561   20.08553692]\n",
      " [ 54.59815003 148.4131591  403.42879349]]\n"
     ]
    },
    {
     "data": {
      "text/plain": [
       "array([[0.        , 0.69314718, 1.09861229],\n",
       "       [1.38629436, 1.60943791, 1.79175947]])"
      ]
     },
     "execution_count": 64,
     "metadata": {},
     "output_type": "execute_result"
    }
   ],
   "source": [
    "print(np.exp(a5))\n",
    "np.log(a5)\n"
   ]
  },
  {
   "cell_type": "code",
   "execution_count": 65,
   "id": "d022b414-9d11-45d6-a55f-ada78e186f53",
   "metadata": {},
   "outputs": [
    {
     "data": {
      "text/plain": [
       "array([[1, 2, 3],\n",
       "       [4, 5, 6]])"
      ]
     },
     "execution_count": 65,
     "metadata": {},
     "output_type": "execute_result"
    }
   ],
   "source": [
    "#Aggregation - bringing things together, doing a similar thing on a number of things.\n",
    "\n",
    "a5"
   ]
  },
  {
   "cell_type": "code",
   "execution_count": 66,
   "id": "bd9b2fe8-8e9d-4edf-8b70-54bcc2589ebc",
   "metadata": {},
   "outputs": [
    {
     "data": {
      "text/plain": [
       "21"
      ]
     },
     "execution_count": 66,
     "metadata": {},
     "output_type": "execute_result"
    }
   ],
   "source": [
    "np.sum(a5)"
   ]
  },
  {
   "cell_type": "code",
   "execution_count": 77,
   "id": "8ae5139e-e5e3-4956-9202-4e44e9a1638e",
   "metadata": {},
   "outputs": [
    {
     "name": "stdout",
     "output_type": "stream",
     "text": [
      "[[1 2 3]\n",
      " [4 5 6]]\n",
      "3.5\n",
      "6\n",
      "1\n",
      "1.707825127659933\n",
      "2.9166666666666665\n"
     ]
    }
   ],
   "source": [
    "print(a5)\n",
    "print(np.mean(a5))\n",
    "print(np.max(a5))\n",
    "print(np.min(a5))\n",
    "print(np.std(a5)) # square root of the variance\n",
    "print(np.var(a5))"
   ]
  },
  {
   "cell_type": "markdown",
   "id": "74750b34-f914-4249-99d2-edc59b7653ea",
   "metadata": {},
   "source": [
    "Definition of standard deviation - it is a measure of how spread out numbers are from the mean\n",
    "Definition of variance - is the averaged squared differences of the mean \n",
    "higher variance = wider range of numbers\n",
    "lower variance = lower range of numbers"
   ]
  },
  {
   "cell_type": "code",
   "execution_count": 83,
   "id": "ff8a8b2d-0d41-4b5e-b9a6-fdd168ab5d55",
   "metadata": {},
   "outputs": [
    {
     "name": "stdout",
     "output_type": "stream",
     "text": [
      "4296133.472222221\n",
      "8.0\n"
     ]
    }
   ],
   "source": [
    "# Demo of std and var\n",
    "high_var_arr = np.array([1,100,200,300,4000,5000])\n",
    "low_var_arr = np.array([2,4,6,8,10])\n",
    "print(np.var(high_var_arr))\n",
    "print(np.var(low_var_arr))"
   ]
  },
  {
   "cell_type": "code",
   "execution_count": 84,
   "id": "99dde2e4-9d12-4d74-b492-ed2a8a395840",
   "metadata": {},
   "outputs": [
    {
     "name": "stdout",
     "output_type": "stream",
     "text": [
      "2072.711623024829\n",
      "2.8284271247461903\n"
     ]
    }
   ],
   "source": [
    "print(np.std(high_var_arr))\n",
    "print(np.std(low_var_arr))"
   ]
  },
  {
   "cell_type": "code",
   "execution_count": 91,
   "id": "c259aeab-814b-48e2-a4a4-9904cbfb1afe",
   "metadata": {},
   "outputs": [
    {
     "data": {
      "image/png": "[encoded data removed]",
      "text/plain": [
       "<Figure size 640x480 with 1 Axes>"
      ]
     },
     "metadata": {},
     "output_type": "display_data"
    },
    {
     "data": {
      "image/png": "[encoded data removed]",
      "text/plain": [
       "<Figure size 640x480 with 1 Axes>"
      ]
     },
     "metadata": {},
     "output_type": "display_data"
    }
   ],
   "source": [
    "%matplotlib inline\n",
    "import matplotlib.pyplot as plt\n",
    "plt.hist(high_var_arr)\n",
    "plt.show()\n",
    "plt.hist(low_var_arr)\n",
    "plt.show()"
   ]
  },
  {
   "cell_type": "markdown",
   "id": "d0067330-f312-456f-8075-8ce0c57220b6",
   "metadata": {},
   "source": [
    "# Reshaping & Transpose"
   ]
  },
  {
   "cell_type": "code",
   "execution_count": 92,
   "id": "ba13692b-439c-4983-a388-0a79d5695606",
   "metadata": {},
   "outputs": [
    {
     "data": {
      "text/plain": [
       "array([[1, 2, 3],\n",
       "       [4, 5, 6]])"
      ]
     },
     "execution_count": 92,
     "metadata": {},
     "output_type": "execute_result"
    }
   ],
   "source": [
    "a5"
   ]
  },
  {
   "cell_type": "code",
   "execution_count": 93,
   "id": "bf307248-5c37-4ebc-a8ba-58d8240b53ef",
   "metadata": {},
   "outputs": [
    {
     "data": {
      "text/plain": [
       "array([[[1, 2, 3],\n",
       "        [4, 5, 6],\n",
       "        [7, 8, 9]]])"
      ]
     },
     "execution_count": 93,
     "metadata": {},
     "output_type": "execute_result"
    }
   ],
   "source": [
    "a7 = np.array([[[1,2,3],[4,5,6],[7,8,9]]])\n",
    "a7"
   ]
  },
  {
   "cell_type": "code",
   "execution_count": 105,
   "id": "313569e4-cea5-42b7-a776-653e3a49e9e3",
   "metadata": {},
   "outputs": [],
   "source": [
    "#print(a5+a7) - we get an error, because one is 2*3 array while other is 3*3, to fix this we use reshaping"
   ]
  },
  {
   "cell_type": "code",
   "execution_count": 103,
   "id": "351bd0a4-c91c-42d4-9b84-135a23aed777",
   "metadata": {},
   "outputs": [
    {
     "data": {
      "text/plain": [
       "array([[[1, 2],\n",
       "        [3, 4],\n",
       "        [5, 6]]])"
      ]
     },
     "execution_count": 103,
     "metadata": {},
     "output_type": "execute_result"
    }
   ],
   "source": [
    "a5.reshape(1,3,2)"
   ]
  },
  {
   "cell_type": "code",
   "execution_count": 106,
   "id": "e381cde2-c932-4b4f-a699-5ee8062eb4d0",
   "metadata": {},
   "outputs": [],
   "source": [
    "# Transpose - it is the reverse of the order of the axes eg: an array with shape (2,3) becomes (3,2)"
   ]
  },
  {
   "cell_type": "code",
   "execution_count": 107,
   "id": "fce3f5d6-bbdf-4eb1-a91c-d3589f625213",
   "metadata": {},
   "outputs": [
    {
     "data": {
      "text/plain": [
       "(2, 3)"
      ]
     },
     "execution_count": 107,
     "metadata": {},
     "output_type": "execute_result"
    }
   ],
   "source": [
    "a5.shape"
   ]
  },
  {
   "cell_type": "code",
   "execution_count": 116,
   "id": "dbb79235-4ceb-4851-a45e-7194ed3f11c9",
   "metadata": {},
   "outputs": [
    {
     "name": "stdout",
     "output_type": "stream",
     "text": [
      "[[1 4]\n",
      " [2 5]\n",
      " [3 6]]\n"
     ]
    },
    {
     "data": {
      "text/plain": [
       "(3, 2)"
      ]
     },
     "execution_count": 116,
     "metadata": {},
     "output_type": "execute_result"
    }
   ],
   "source": [
    "print(a5.T) # return the transposed array\n",
    "a5.T.shape"
   ]
  },
  {
   "cell_type": "markdown",
   "id": "5e331c90-9242-4958-8536-8f42882cd548",
   "metadata": {},
   "source": [
    "# Dot product"
   ]
  },
  {
   "cell_type": "code",
   "execution_count": 119,
   "id": "0af36c68-cacc-406a-a5e0-75e040b217d6",
   "metadata": {},
   "outputs": [
    {
     "name": "stdout",
     "output_type": "stream",
     "text": [
      "[[5 0 3]\n",
      " [3 7 9]\n",
      " [3 5 2]\n",
      " [4 7 6]\n",
      " [8 8 1]]\n",
      "[[6 7 7 8 1]\n",
      " [5 9 8 9 4]\n",
      " [3 0 3 5 0]]\n"
     ]
    }
   ],
   "source": [
    "# Condition for dot product to work: inner dimensions must be same\n",
    "# Resulting matrix has shape of outer dimenstions\n",
    "np.random.seed(0)\n",
    "mat1 = np.random.randint(10,size = (5,3))\n",
    "mat2 = np.random.randint(10, size = (3,5))\n",
    "\n",
    "print(mat1)\n",
    "print(mat2)"
   ]
  },
  {
   "cell_type": "code",
   "execution_count": 118,
   "id": "4a2857b8-17f1-4f64-bf8b-be1413d33488",
   "metadata": {},
   "outputs": [
    {
     "data": {
      "text/plain": [
       "array([[30,  0, 21],\n",
       "       [24,  7, 45],\n",
       "       [27, 40, 18],\n",
       "       [16, 21,  0],\n",
       "       [24, 40,  0]])"
      ]
     },
     "execution_count": 118,
     "metadata": {},
     "output_type": "execute_result"
    }
   ],
   "source": [
    "# element-wise multiplication\n",
    "mat1*mat2"
   ]
  },
  {
   "cell_type": "code",
   "execution_count": 121,
   "id": "06bef194-e302-4020-9f6e-94a5b7bec80e",
   "metadata": {},
   "outputs": [
    {
     "name": "stdout",
     "output_type": "stream",
     "text": [
      "[[ 39  35  44  55   5]\n",
      " [ 80  84 104 132  31]\n",
      " [ 49  66  67  79  23]\n",
      " [ 77  91 102 125  32]\n",
      " [ 91 128 123 141  40]]\n"
     ]
    },
    {
     "data": {
      "text/plain": [
       "(5, 5)"
      ]
     },
     "execution_count": 121,
     "metadata": {},
     "output_type": "execute_result"
    }
   ],
   "source": [
    "# Dot product\n",
    "mat3 = np.dot(mat1,mat2)\n",
    "print(mat3)\n",
    "mat3.shape"
   ]
  },
  {
   "cell_type": "markdown",
   "id": "e49e94aa-fa3c-43ef-81c5-2a634499d712",
   "metadata": {},
   "source": [
    "# Exercise: Nut butter store sales"
   ]
  },
  {
   "cell_type": "code",
   "execution_count": 122,
   "id": "16a7be7d-0c3b-4092-a4dc-c0604a3079ea",
   "metadata": {},
   "outputs": [
    {
     "name": "stdout",
     "output_type": "stream",
     "text": [
      "[[12 15  0]\n",
      " [ 3  3  7]\n",
      " [ 9 19 18]\n",
      " [ 4  6 12]\n",
      " [ 1  6  7]]\n"
     ]
    }
   ],
   "source": [
    "np.random.seed(0)\n",
    "# number of jars old\n",
    "sales_amount= np.random.randint(20, size = (5,3))\n",
    "print(sales_amount)"
   ]
  },
  {
   "cell_type": "code",
   "execution_count": 123,
   "id": "95939a6d-1a0f-4c5c-88d9-e200d6e05485",
   "metadata": {},
   "outputs": [
    {
     "data": {
      "text/html": [
       "<div>\n",
       "<style scoped>\n",
       "    .dataframe tbody tr th:only-of-type {\n",
       "        vertical-align: middle;\n",
       "    }\n",
       "\n",
       "    .dataframe tbody tr th {\n",
       "        vertical-align: top;\n",
       "    }\n",
       "\n",
       "    .dataframe thead th {\n",
       "        text-align: right;\n",
       "    }\n",
       "</style>\n",
       "<table border=\"1\" class=\"dataframe\">\n",
       "  <thead>\n",
       "    <tr style=\"text-align: right;\">\n",
       "      <th></th>\n",
       "      <th>Almond butter</th>\n",
       "      <th>Peanut Butter</th>\n",
       "      <th>Cashew Butter</th>\n",
       "    </tr>\n",
       "  </thead>\n",
       "  <tbody>\n",
       "    <tr>\n",
       "      <th>Mon</th>\n",
       "      <td>12</td>\n",
       "      <td>15</td>\n",
       "      <td>0</td>\n",
       "    </tr>\n",
       "    <tr>\n",
       "      <th>Tue</th>\n",
       "      <td>3</td>\n",
       "      <td>3</td>\n",
       "      <td>7</td>\n",
       "    </tr>\n",
       "    <tr>\n",
       "      <th>Wed</th>\n",
       "      <td>9</td>\n",
       "      <td>19</td>\n",
       "      <td>18</td>\n",
       "    </tr>\n",
       "    <tr>\n",
       "      <th>Thu</th>\n",
       "      <td>4</td>\n",
       "      <td>6</td>\n",
       "      <td>12</td>\n",
       "    </tr>\n",
       "    <tr>\n",
       "      <th>Fri</th>\n",
       "      <td>1</td>\n",
       "      <td>6</td>\n",
       "      <td>7</td>\n",
       "    </tr>\n",
       "  </tbody>\n",
       "</table>\n",
       "</div>"
      ],
      "text/plain": [
       "     Almond butter  Peanut Butter  Cashew Butter\n",
       "Mon             12             15              0\n",
       "Tue              3              3              7\n",
       "Wed              9             19             18\n",
       "Thu              4              6             12\n",
       "Fri              1              6              7"
      ]
     },
     "execution_count": 123,
     "metadata": {},
     "output_type": "execute_result"
    }
   ],
   "source": [
    "# weekly-sales\n",
    "weekly_sales = pd.DataFrame(sales_amount, index = [\"Mon\",\"Tue\",\"Wed\",\"Thu\",\"Fri\"], columns = [\"Almond butter\",\"Peanut Butter\",\"Cashew Butter\"])\n",
    "weekly_sales"
   ]
  },
  {
   "cell_type": "code",
   "execution_count": 124,
   "id": "9b4d3d0e-00ee-4707-a525-2f8f2a838411",
   "metadata": {},
   "outputs": [],
   "source": [
    "# Create prices array\n",
    "prices = np.array([10,8,12])"
   ]
  },
  {
   "cell_type": "code",
   "execution_count": 125,
   "id": "ee0bf91c-309a-46f0-a015-240318cb94fa",
   "metadata": {},
   "outputs": [],
   "source": [
    "#Create butter_prices dataframe\n",
    "butter_prices=pd.DataFrame(prices.reshape(1,3), index = [\"Prices\"],columns = [\"Almond butter\",\"Peanut Butter\",\"Cashew Butter\"])\n"
   ]
  },
  {
   "cell_type": "code",
   "execution_count": 126,
   "id": "88678114-2dac-474b-8820-5057034702a3",
   "metadata": {},
   "outputs": [
    {
     "name": "stdout",
     "output_type": "stream",
     "text": [
      "[240 138 458 232 142]\n"
     ]
    }
   ],
   "source": [
    "total_sales = prices.dot(sales_amount.T)\n",
    "print(total_sales)"
   ]
  },
  {
   "cell_type": "code",
   "execution_count": 130,
   "id": "26429e36-b428-4bdb-8e8e-826680723fd9",
   "metadata": {},
   "outputs": [
    {
     "data": {
      "text/html": [
       "<div>\n",
       "<style scoped>\n",
       "    .dataframe tbody tr th:only-of-type {\n",
       "        vertical-align: middle;\n",
       "    }\n",
       "\n",
       "    .dataframe tbody tr th {\n",
       "        vertical-align: top;\n",
       "    }\n",
       "\n",
       "    .dataframe thead th {\n",
       "        text-align: right;\n",
       "    }\n",
       "</style>\n",
       "<table border=\"1\" class=\"dataframe\">\n",
       "  <thead>\n",
       "    <tr style=\"text-align: right;\">\n",
       "      <th></th>\n",
       "      <th>Total Sales</th>\n",
       "    </tr>\n",
       "  </thead>\n",
       "  <tbody>\n",
       "    <tr>\n",
       "      <th>Mon</th>\n",
       "      <td>240</td>\n",
       "    </tr>\n",
       "    <tr>\n",
       "      <th>Tue</th>\n",
       "      <td>138</td>\n",
       "    </tr>\n",
       "    <tr>\n",
       "      <th>Wed</th>\n",
       "      <td>458</td>\n",
       "    </tr>\n",
       "    <tr>\n",
       "      <th>Thu</th>\n",
       "      <td>232</td>\n",
       "    </tr>\n",
       "    <tr>\n",
       "      <th>Fri</th>\n",
       "      <td>142</td>\n",
       "    </tr>\n",
       "  </tbody>\n",
       "</table>\n",
       "</div>"
      ],
      "text/plain": [
       "     Total Sales\n",
       "Mon          240\n",
       "Tue          138\n",
       "Wed          458\n",
       "Thu          232\n",
       "Fri          142"
      ]
     },
     "execution_count": 130,
     "metadata": {},
     "output_type": "execute_result"
    }
   ],
   "source": [
    "total_sales_df = pd.DataFrame(total_sales,index = [\"Mon\",\"Tue\",\"Wed\",\"Thu\",\"Fri\"],columns = [\"Total Sales\"] )\n",
    "total_sales_df"
   ]
  },
  {
   "cell_type": "code",
   "execution_count": 132,
   "id": "1de47170-9535-4318-987f-9c50f8e31c3e",
   "metadata": {},
   "outputs": [
    {
     "name": "stdout",
     "output_type": "stream",
     "text": [
      "     Almond butter  Peanut Butter  Cashew Butter  Total($)\n",
      "Mon             12             15              0       240\n",
      "Tue              3              3              7       138\n",
      "Wed              9             19             18       458\n",
      "Thu              4              6             12       232\n",
      "Fri              1              6              7       142\n"
     ]
    }
   ],
   "source": [
    "weekly_sales[\"Total($)\"] = prices.dot(sales_amount.T)\n",
    "print(weekly_sales)"
   ]
  },
  {
   "cell_type": "markdown",
   "id": "45f9a5ee-b62c-4849-8914-153634cfa00a",
   "metadata": {},
   "source": [
    "# Comparison Operators"
   ]
  },
  {
   "cell_type": "code",
   "execution_count": 133,
   "id": "9c63125a-ec74-4590-9414-6f7ae0087e92",
   "metadata": {},
   "outputs": [
    {
     "data": {
      "text/plain": [
       "array([[1, 2, 3],\n",
       "       [4, 5, 6]])"
      ]
     },
     "execution_count": 133,
     "metadata": {},
     "output_type": "execute_result"
    }
   ],
   "source": [
    "a5"
   ]
  },
  {
   "cell_type": "code",
   "execution_count": 136,
   "id": "92c09425-0250-4ea0-b0ca-8a80f3cbabdf",
   "metadata": {},
   "outputs": [
    {
     "data": {
      "text/plain": [
       "array([[[10, 11, 12],\n",
       "        [13, 14, 15]]])"
      ]
     },
     "execution_count": 136,
     "metadata": {},
     "output_type": "execute_result"
    }
   ],
   "source": [
    "a8 = np.array([[[10,11,12],[13,14,15]]])\n",
    "a8"
   ]
  },
  {
   "cell_type": "code",
   "execution_count": 137,
   "id": "c950fdfd-13e3-498f-8551-69bf2ee0906b",
   "metadata": {},
   "outputs": [
    {
     "data": {
      "text/plain": [
       "array([[[ True,  True,  True],\n",
       "        [ True,  True,  True]]])"
      ]
     },
     "execution_count": 137,
     "metadata": {},
     "output_type": "execute_result"
    }
   ],
   "source": [
    "a8>a5"
   ]
  },
  {
   "cell_type": "code",
   "execution_count": 138,
   "id": "3f75fbcb-b8a0-488c-b4f0-17b643e5fd23",
   "metadata": {},
   "outputs": [
    {
     "data": {
      "text/plain": [
       "array([[[False, False, False],\n",
       "        [False, False, False]]])"
      ]
     },
     "execution_count": 138,
     "metadata": {},
     "output_type": "execute_result"
    }
   ],
   "source": [
    "a5>=a8"
   ]
  },
  {
   "cell_type": "code",
   "execution_count": 139,
   "id": "2a8f749a-6afa-4114-9ea5-4078f767e79a",
   "metadata": {},
   "outputs": [
    {
     "data": {
      "text/plain": [
       "array([[False, False, False],\n",
       "       [False, False,  True]])"
      ]
     },
     "execution_count": 139,
     "metadata": {},
     "output_type": "execute_result"
    }
   ],
   "source": [
    "a5>5\n"
   ]
  },
  {
   "cell_type": "code",
   "execution_count": 140,
   "id": "e44e0821-3044-4517-abf1-46f1db4cb0dd",
   "metadata": {},
   "outputs": [
    {
     "data": {
      "text/plain": [
       "array([[[False, False, False],\n",
       "        [False, False, False]]])"
      ]
     },
     "execution_count": 140,
     "metadata": {},
     "output_type": "execute_result"
    }
   ],
   "source": [
    "a5 == a8"
   ]
  },
  {
   "cell_type": "markdown",
   "id": "732fcfee-f121-43dc-b79a-25659a1ebabb",
   "metadata": {},
   "source": [
    "# Sorting Arrays\n"
   ]
  },
  {
   "cell_type": "code",
   "execution_count": 5,
   "id": "123c0534-c5bd-4bc6-b569-19deba019fae",
   "metadata": {},
   "outputs": [
    {
     "data": {
      "text/plain": [
       "array([[12, 15,  0],\n",
       "       [ 3,  3,  7],\n",
       "       [ 9, 19, 18]])"
      ]
     },
     "execution_count": 5,
     "metadata": {},
     "output_type": "execute_result"
    }
   ],
   "source": [
    "import numpy as np\n",
    "np.random.seed(0)\n",
    "a9 = np.random.randint(20, size = (3,3))\n",
    "a9"
   ]
  },
  {
   "cell_type": "code",
   "execution_count": 6,
   "id": "4fa9a960-0a4c-45e0-8453-df83df1cb1f1",
   "metadata": {},
   "outputs": [
    {
     "data": {
      "text/plain": [
       "(3, 3)"
      ]
     },
     "execution_count": 6,
     "metadata": {},
     "output_type": "execute_result"
    }
   ],
   "source": [
    "a9.shape"
   ]
  },
  {
   "cell_type": "code",
   "execution_count": 7,
   "id": "1b9a430e-9ace-47d7-b674-57781c573591",
   "metadata": {},
   "outputs": [
    {
     "data": {
      "text/plain": [
       "array([[ 0, 12, 15],\n",
       "       [ 3,  3,  7],\n",
       "       [ 9, 18, 19]])"
      ]
     },
     "execution_count": 7,
     "metadata": {},
     "output_type": "execute_result"
    }
   ],
   "source": [
    "np.sort(a9) # sorts elements on each axis"
   ]
  },
  {
   "cell_type": "code",
   "execution_count": 8,
   "id": "ef2004ec-a5ec-408d-8b0e-f8b169ebfca2",
   "metadata": {},
   "outputs": [
    {
     "data": {
      "text/plain": [
       "array([[2, 0, 1],\n",
       "       [0, 1, 2],\n",
       "       [0, 2, 1]])"
      ]
     },
     "execution_count": 8,
     "metadata": {},
     "output_type": "execute_result"
    }
   ],
   "source": [
    "np.argsort(a9) # sorts index based on the element"
   ]
  },
  {
   "cell_type": "code",
   "execution_count": 11,
   "id": "f15d65b1-18e6-4ac2-a396-eeb6ea6afaa9",
   "metadata": {},
   "outputs": [
    {
     "name": "stdout",
     "output_type": "stream",
     "text": [
      "2\n"
     ]
    },
    {
     "data": {
      "text/plain": [
       "array([0, 2, 2])"
      ]
     },
     "execution_count": 11,
     "metadata": {},
     "output_type": "execute_result"
    }
   ],
   "source": [
    "print(np.argmin(a9))\n",
    "np.argmax(a9,axis = 0)"
   ]
  },
  {
   "cell_type": "markdown",
   "id": "5fcf1a31-8d74-4ff9-9878-3907a32108f1",
   "metadata": {},
   "source": [
    "# Turning Images into Numpy Arrays"
   ]
  },
  {
   "cell_type": "markdown",
   "id": "e433d9de-da00-49ec-bca7-4b78f0705b55",
   "metadata": {},
   "source": [
    "<img src = \"env/numpy-images/panda.png\">"
   ]
  },
  {
   "cell_type": "code",
   "execution_count": 20,
   "id": "af7e4360-2558-4341-83a3-7d0ab6ec0b59",
   "metadata": {},
   "outputs": [
    {
     "name": "stdout",
     "output_type": "stream",
     "text": [
      "<class 'numpy.ndarray'>\n"
     ]
    },
    {
     "data": {
      "text/plain": [
       "array([[[0.05490196, 0.10588235, 0.06666667],\n",
       "        [0.05490196, 0.10588235, 0.06666667],\n",
       "        [0.05490196, 0.10588235, 0.06666667],\n",
       "        ...,\n",
       "        [0.16470589, 0.12941177, 0.09411765],\n",
       "        [0.16470589, 0.12941177, 0.09411765],\n",
       "        [0.16470589, 0.12941177, 0.09411765]],\n",
       "\n",
       "       [[0.05490196, 0.10588235, 0.06666667],\n",
       "        [0.05490196, 0.10588235, 0.06666667],\n",
       "        [0.05490196, 0.10588235, 0.06666667],\n",
       "        ...,\n",
       "        [0.16470589, 0.12941177, 0.09411765],\n",
       "        [0.16470589, 0.12941177, 0.09411765],\n",
       "        [0.16470589, 0.12941177, 0.09411765]],\n",
       "\n",
       "       [[0.05490196, 0.10588235, 0.06666667],\n",
       "        [0.05490196, 0.10588235, 0.06666667],\n",
       "        [0.05490196, 0.10588235, 0.06666667],\n",
       "        ...,\n",
       "        [0.16470589, 0.12941177, 0.09411765],\n",
       "        [0.16470589, 0.12941177, 0.09411765],\n",
       "        [0.16470589, 0.12941177, 0.09411765]],\n",
       "\n",
       "       ...,\n",
       "\n",
       "       [[0.13333334, 0.07450981, 0.05490196],\n",
       "        [0.12156863, 0.0627451 , 0.04313726],\n",
       "        [0.10980392, 0.05098039, 0.03137255],\n",
       "        ...,\n",
       "        [0.02745098, 0.02745098, 0.03529412],\n",
       "        [0.02745098, 0.02745098, 0.03529412],\n",
       "        [0.02745098, 0.02745098, 0.03529412]],\n",
       "\n",
       "       [[0.13333334, 0.07450981, 0.05490196],\n",
       "        [0.12156863, 0.0627451 , 0.04313726],\n",
       "        [0.12156863, 0.0627451 , 0.04313726],\n",
       "        ...,\n",
       "        [0.02352941, 0.02352941, 0.03137255],\n",
       "        [0.02352941, 0.02352941, 0.03137255],\n",
       "        [0.02352941, 0.02352941, 0.03137255]],\n",
       "\n",
       "       [[0.13333334, 0.07450981, 0.05490196],\n",
       "        [0.12156863, 0.0627451 , 0.04313726],\n",
       "        [0.12156863, 0.0627451 , 0.04313726],\n",
       "        ...,\n",
       "        [0.02352941, 0.02352941, 0.03137255],\n",
       "        [0.02352941, 0.02352941, 0.03137255],\n",
       "        [0.02352941, 0.02352941, 0.03137255]]], dtype=float32)"
      ]
     },
     "execution_count": 20,
     "metadata": {},
     "output_type": "execute_result"
    }
   ],
   "source": [
    "#Turning an image into NumPy array\n",
    "from matplotlib.image import imread\n",
    "panda = imread(\"env/numpy-images/panda.png\")\n",
    "print(type(panda))\n",
    "panda"
   ]
  },
  {
   "cell_type": "code",
   "execution_count": 21,
   "id": "09be11c2-cbf2-40d1-9049-f363a1f075cc",
   "metadata": {},
   "outputs": [
    {
     "data": {
      "text/plain": [
       "(24465000, 3, (2330, 3500, 3))"
      ]
     },
     "execution_count": 21,
     "metadata": {},
     "output_type": "execute_result"
    }
   ],
   "source": [
    "panda.size, panda.ndim, panda.shape"
   ]
  },
  {
   "cell_type": "code",
   "execution_count": 22,
   "id": "2af4b83e-e263-4637-b922-a354ee4c16f4",
   "metadata": {},
   "outputs": [
    {
     "data": {
      "text/plain": [
       "array([[[0.05490196, 0.10588235, 0.06666667],\n",
       "        [0.05490196, 0.10588235, 0.06666667],\n",
       "        [0.05490196, 0.10588235, 0.06666667],\n",
       "        ...,\n",
       "        [0.16470589, 0.12941177, 0.09411765],\n",
       "        [0.16470589, 0.12941177, 0.09411765],\n",
       "        [0.16470589, 0.12941177, 0.09411765]],\n",
       "\n",
       "       [[0.05490196, 0.10588235, 0.06666667],\n",
       "        [0.05490196, 0.10588235, 0.06666667],\n",
       "        [0.05490196, 0.10588235, 0.06666667],\n",
       "        ...,\n",
       "        [0.16470589, 0.12941177, 0.09411765],\n",
       "        [0.16470589, 0.12941177, 0.09411765],\n",
       "        [0.16470589, 0.12941177, 0.09411765]],\n",
       "\n",
       "       [[0.05490196, 0.10588235, 0.06666667],\n",
       "        [0.05490196, 0.10588235, 0.06666667],\n",
       "        [0.05490196, 0.10588235, 0.06666667],\n",
       "        ...,\n",
       "        [0.16470589, 0.12941177, 0.09411765],\n",
       "        [0.16470589, 0.12941177, 0.09411765],\n",
       "        [0.16470589, 0.12941177, 0.09411765]],\n",
       "\n",
       "       [[0.05490196, 0.10588235, 0.06666667],\n",
       "        [0.05490196, 0.10588235, 0.06666667],\n",
       "        [0.05490196, 0.10588235, 0.06666667],\n",
       "        ...,\n",
       "        [0.16862746, 0.13333334, 0.09803922],\n",
       "        [0.16862746, 0.13333334, 0.09803922],\n",
       "        [0.16862746, 0.13333334, 0.09803922]],\n",
       "\n",
       "       [[0.05490196, 0.10588235, 0.06666667],\n",
       "        [0.05490196, 0.10588235, 0.06666667],\n",
       "        [0.05490196, 0.10588235, 0.06666667],\n",
       "        ...,\n",
       "        [0.16862746, 0.13333334, 0.09803922],\n",
       "        [0.16862746, 0.13333334, 0.09803922],\n",
       "        [0.16862746, 0.13333334, 0.09803922]]], dtype=float32)"
      ]
     },
     "execution_count": 22,
     "metadata": {},
     "output_type": "execute_result"
    }
   ],
   "source": [
    "panda[:5]"
   ]
  },
  {
   "cell_type": "markdown",
   "id": "9bb673fb-c8c8-4ee1-bf02-fa91fe817d4e",
   "metadata": {},
   "source": [
    "<img src = \"env/numpy-images/car-photo.png\">"
   ]
  },
  {
   "cell_type": "code",
   "execution_count": 24,
   "id": "c30c1ce2-d6e9-42ee-82b5-663f095118d1",
   "metadata": {},
   "outputs": [
    {
     "name": "stdout",
     "output_type": "stream",
     "text": [
      "[[[0.05490196 0.10588235 0.06666667]\n",
      "  [0.05490196 0.10588235 0.06666667]\n",
      "  [0.05490196 0.10588235 0.06666667]\n",
      "  ...\n",
      "  [0.16470589 0.12941177 0.09411765]\n",
      "  [0.16470589 0.12941177 0.09411765]\n",
      "  [0.16470589 0.12941177 0.09411765]]\n",
      "\n",
      " [[0.05490196 0.10588235 0.06666667]\n",
      "  [0.05490196 0.10588235 0.06666667]\n",
      "  [0.05490196 0.10588235 0.06666667]\n",
      "  ...\n",
      "  [0.16470589 0.12941177 0.09411765]\n",
      "  [0.16470589 0.12941177 0.09411765]\n",
      "  [0.16470589 0.12941177 0.09411765]]\n",
      "\n",
      " [[0.05490196 0.10588235 0.06666667]\n",
      "  [0.05490196 0.10588235 0.06666667]\n",
      "  [0.05490196 0.10588235 0.06666667]\n",
      "  ...\n",
      "  [0.16470589 0.12941177 0.09411765]\n",
      "  [0.16470589 0.12941177 0.09411765]\n",
      "  [0.16470589 0.12941177 0.09411765]]\n",
      "\n",
      " ...\n",
      "\n",
      " [[0.13333334 0.07450981 0.05490196]\n",
      "  [0.12156863 0.0627451  0.04313726]\n",
      "  [0.10980392 0.05098039 0.03137255]\n",
      "  ...\n",
      "  [0.02745098 0.02745098 0.03529412]\n",
      "  [0.02745098 0.02745098 0.03529412]\n",
      "  [0.02745098 0.02745098 0.03529412]]\n",
      "\n",
      " [[0.13333334 0.07450981 0.05490196]\n",
      "  [0.12156863 0.0627451  0.04313726]\n",
      "  [0.12156863 0.0627451  0.04313726]\n",
      "  ...\n",
      "  [0.02352941 0.02352941 0.03137255]\n",
      "  [0.02352941 0.02352941 0.03137255]\n",
      "  [0.02352941 0.02352941 0.03137255]]\n",
      "\n",
      " [[0.13333334 0.07450981 0.05490196]\n",
      "  [0.12156863 0.0627451  0.04313726]\n",
      "  [0.12156863 0.0627451  0.04313726]\n",
      "  ...\n",
      "  [0.02352941 0.02352941 0.03137255]\n",
      "  [0.02352941 0.02352941 0.03137255]\n",
      "  [0.02352941 0.02352941 0.03137255]]]\n",
      "(2330, 3500, 3)\n",
      "24465000\n"
     ]
    }
   ],
   "source": [
    "car_photo = imread(\"env/numpy-images/panda.png\")\n",
    "print(car_photo)\n",
    "print(car_photo.shape)\n",
    "print(car_photo.size)"
   ]
  },
  {
   "cell_type": "code",
   "execution_count": null,
   "id": "55bec4df-73f7-47bc-83a8-aaf54f320c6f",
   "metadata": {},
   "outputs": [],
   "source": []
  }
 ],
 "metadata": {
  "kernelspec": {
   "display_name": "Python 3 (ipykernel)",
   "language": "python",
   "name": "python3"
  },
  "language_info": {
   "codemirror_mode": {
    "name": "ipython",
    "version": 3
   },
   "file_extension": ".py",
   "mimetype": "text/x-python",
   "name": "python",
   "nbconvert_exporter": "python",
   "pygments_lexer": "ipython3",
   "version": "3.12.3"
  }
 },
 "nbformat": 4,
 "nbformat_minor": 5
}
